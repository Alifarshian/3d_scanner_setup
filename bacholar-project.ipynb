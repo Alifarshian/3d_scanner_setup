{
 "cells": [
  {
   "cell_type": "code",
   "execution_count": 24,
   "id": "6f35902a",
   "metadata": {},
   "outputs": [
    {
     "name": "stdout",
     "output_type": "stream",
     "text": [
      "Device opened successfully!\n"
     ]
    }
   ],
   "source": [
    "from pyk4a import PyK4A, Config , transformation\n",
    "\n",
    "try:\n",
    "    k4a = PyK4A(Config())\n",
    "    k4a.start()\n",
    "    print(\"Device opened successfully!\")\n",
    "    k4a.stop()\n",
    "except Exception as e:\n",
    "    print(f\"Failed to open device: {e}\")\n"
   ]
  },
  {
   "cell_type": "code",
   "execution_count": 25,
   "id": "0f0ce5bf",
   "metadata": {},
   "outputs": [
    {
     "name": "stdout",
     "output_type": "stream",
     "text": [
      "Press 'k' to start recording. Press 'q' to quit.\n",
      "Recording started!\n"
     ]
    },
    {
     "ename": "K4AException",
     "evalue": "",
     "output_type": "error",
     "traceback": [
      "\u001b[31m---------------------------------------------------------------------------\u001b[39m",
      "\u001b[31mK4AException\u001b[39m                              Traceback (most recent call last)",
      "\u001b[36mCell\u001b[39m\u001b[36m \u001b[39m\u001b[32mIn[25]\u001b[39m\u001b[32m, line 55\u001b[39m\n\u001b[32m     52\u001b[39m     cv2.destroyAllWindows()\n\u001b[32m     54\u001b[39m \u001b[38;5;28;01mif\u001b[39;00m \u001b[34m__name__\u001b[39m == \u001b[33m\"\u001b[39m\u001b[33m__main__\u001b[39m\u001b[33m\"\u001b[39m:\n\u001b[32m---> \u001b[39m\u001b[32m55\u001b[39m     \u001b[43mmain\u001b[49m\u001b[43m(\u001b[49m\u001b[43m)\u001b[49m\n",
      "\u001b[36mCell\u001b[39m\u001b[36m \u001b[39m\u001b[32mIn[25]\u001b[39m\u001b[32m, line 23\u001b[39m, in \u001b[36mmain\u001b[39m\u001b[34m()\u001b[39m\n\u001b[32m     20\u001b[39m width, height = \u001b[38;5;28;01mNone\u001b[39;00m, \u001b[38;5;28;01mNone\u001b[39;00m\n\u001b[32m     22\u001b[39m \u001b[38;5;28;01mwhile\u001b[39;00m \u001b[38;5;28;01mTrue\u001b[39;00m:\n\u001b[32m---> \u001b[39m\u001b[32m23\u001b[39m     capture = \u001b[43mk4a\u001b[49m\u001b[43m.\u001b[49m\u001b[43mget_capture\u001b[49m\u001b[43m(\u001b[49m\u001b[43m)\u001b[49m\n\u001b[32m     24\u001b[39m     \u001b[38;5;28;01mif\u001b[39;00m capture.color \u001b[38;5;129;01mis\u001b[39;00m \u001b[38;5;129;01mnot\u001b[39;00m \u001b[38;5;28;01mNone\u001b[39;00m:\n\u001b[32m     25\u001b[39m         color_bgra = capture.color\n",
      "\u001b[36mFile \u001b[39m\u001b[32me:\\Uni\\codes\\data_py\\.venv\\Lib\\site-packages\\pyk4a\\pyk4a.py:129\u001b[39m, in \u001b[36mPyK4A.get_capture\u001b[39m\u001b[34m(self, timeout)\u001b[39m\n\u001b[32m    127\u001b[39m \u001b[38;5;28mself\u001b[39m._validate_is_opened()\n\u001b[32m    128\u001b[39m res, capture_capsule = k4a_module.device_get_capture(\u001b[38;5;28mself\u001b[39m._device_handle, \u001b[38;5;28mself\u001b[39m.thread_safe, timeout)\n\u001b[32m--> \u001b[39m\u001b[32m129\u001b[39m \u001b[43m_verify_error\u001b[49m\u001b[43m(\u001b[49m\u001b[43mres\u001b[49m\u001b[43m)\u001b[49m\n\u001b[32m    131\u001b[39m capture = PyK4ACapture(\n\u001b[32m    132\u001b[39m     calibration=\u001b[38;5;28mself\u001b[39m.calibration,\n\u001b[32m    133\u001b[39m     capture_handle=capture_capsule,\n\u001b[32m    134\u001b[39m     color_format=\u001b[38;5;28mself\u001b[39m._config.color_format,\n\u001b[32m    135\u001b[39m     thread_safe=\u001b[38;5;28mself\u001b[39m.thread_safe,\n\u001b[32m    136\u001b[39m )\n\u001b[32m    137\u001b[39m \u001b[38;5;28;01mreturn\u001b[39;00m capture\n",
      "\u001b[36mFile \u001b[39m\u001b[32me:\\Uni\\codes\\data_py\\.venv\\Lib\\site-packages\\pyk4a\\errors.py:18\u001b[39m, in \u001b[36m_verify_error\u001b[39m\u001b[34m(res)\u001b[39m\n\u001b[32m     16\u001b[39m res = Result(res)\n\u001b[32m     17\u001b[39m \u001b[38;5;28;01mif\u001b[39;00m res == Result.Failed:\n\u001b[32m---> \u001b[39m\u001b[32m18\u001b[39m     \u001b[38;5;28;01mraise\u001b[39;00m K4AException()\n\u001b[32m     19\u001b[39m \u001b[38;5;28;01melif\u001b[39;00m res == Result.Timeout:\n\u001b[32m     20\u001b[39m     \u001b[38;5;28;01mraise\u001b[39;00m K4ATimeoutException()\n",
      "\u001b[31mK4AException\u001b[39m: "
     ]
    }
   ],
   "source": [
    "import cv2\n",
    "import pyk4a\n",
    "from pyk4a import Config, PyK4A\n",
    "\n",
    "def main():\n",
    "    config = Config(\n",
    "        color_resolution=pyk4a.ColorResolution.RES_720P,\n",
    "        camera_fps=pyk4a.FPS.FPS_5,\n",
    "        depth_mode=pyk4a.DepthMode.NFOV_2X2BINNED\n",
    "    )\n",
    "\n",
    "    k4a = PyK4A(config=config)\n",
    "    k4a.start()\n",
    "\n",
    "    print(\"Press 'k' to start recording. Press 'q' to quit.\")\n",
    "\n",
    "    # Variables\n",
    "    recording = False\n",
    "    out = None\n",
    "    width, height = None, None\n",
    "\n",
    "    while True:\n",
    "        capture = k4a.get_capture()\n",
    "        if capture.color is not None:\n",
    "            color_bgra = capture.color\n",
    "            color_bgr = cv2.cvtColor(color_bgra, cv2.COLOR_BGRA2BGR)\n",
    "\n",
    "            if width is None or height is None:\n",
    "                height, width, _ = color_bgr.shape\n",
    "\n",
    "            # Show live view\n",
    "            cv2.imshow(\"Color\", color_bgr)\n",
    "\n",
    "            key = cv2.waitKey(1) & 0xFF\n",
    "\n",
    "            if key == ord('k') and not recording:\n",
    "                # Initialize VideoWriter\n",
    "                fourcc = cv2.VideoWriter_fourcc(*'mp4v')\n",
    "                out = cv2.VideoWriter('face_high_speed.mp4', fourcc, 5.0, (width, height))\n",
    "                recording = True\n",
    "                print(\"Recording started!\")\n",
    "\n",
    "            if recording and out is not None:\n",
    "                out.write(color_bgr)\n",
    "\n",
    "            if key == ord('q'):\n",
    "                break\n",
    "\n",
    "    if out is not None:\n",
    "        out.release()\n",
    "    k4a.stop()\n",
    "    cv2.destroyAllWindows()\n",
    "\n",
    "if __name__ == \"__main__\":\n",
    "    main()\n"
   ]
  }
 ],
 "metadata": {
  "kernelspec": {
   "display_name": ".venv",
   "language": "python",
   "name": "python3"
  },
  "language_info": {
   "codemirror_mode": {
    "name": "ipython",
    "version": 3
   },
   "file_extension": ".py",
   "mimetype": "text/x-python",
   "name": "python",
   "nbconvert_exporter": "python",
   "pygments_lexer": "ipython3",
   "version": "3.11.1"
  }
 },
 "nbformat": 4,
 "nbformat_minor": 5
}
